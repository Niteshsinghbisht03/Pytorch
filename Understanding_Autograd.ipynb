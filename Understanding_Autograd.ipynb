{
  "nbformat": 4,
  "nbformat_minor": 0,
  "metadata": {
    "colab": {
      "provenance": [],
      "authorship_tag": "ABX9TyNn8cUbafdAv7X7fcRUYx9M",
      "include_colab_link": true
    },
    "kernelspec": {
      "name": "python3",
      "display_name": "Python 3"
    },
    "language_info": {
      "name": "python"
    }
  },
  "cells": [
    {
      "cell_type": "markdown",
      "metadata": {
        "id": "view-in-github",
        "colab_type": "text"
      },
      "source": [
        "<a href=\"https://colab.research.google.com/github/Niteshsinghbisht03/Pytorch/blob/main/Understanding_Autograd.ipynb\" target=\"_parent\"><img src=\"https://colab.research.google.com/assets/colab-badge.svg\" alt=\"Open In Colab\"/></a>"
      ]
    },
    {
      "cell_type": "code",
      "execution_count": null,
      "metadata": {
        "id": "gIMd5b2OHfAo"
      },
      "outputs": [],
      "source": [
        "import torch"
      ]
    },
    {
      "cell_type": "code",
      "source": [
        "#input features\n",
        "x=torch.tensor(2.6)\n",
        "#output label\n",
        "y=torch.tensor(1.0)"
      ],
      "metadata": {
        "id": "N3EwZHUrOIoR"
      },
      "execution_count": null,
      "outputs": []
    },
    {
      "cell_type": "markdown",
      "source": [
        "# **->Aaam Jindagi**"
      ],
      "metadata": {
        "id": "FYHx9Jt-UimD"
      }
    },
    {
      "cell_type": "code",
      "source": [
        "#weight and biases\n",
        "w=torch.tensor(1.0)\n",
        "b=torch.tensor(0.0)"
      ],
      "metadata": {
        "id": "zpDekxBfOdiJ"
      },
      "execution_count": null,
      "outputs": []
    },
    {
      "cell_type": "code",
      "source": [
        "#binary crossentropy for loss\n",
        "def binary_cross_loss_entropy(y,y_pred):\n",
        "  epsilon=1e-8\n",
        "  prediction = torch.clamp(y_pred,epsilon,1-epsilon)\n",
        "  return -(y_pred * torch.log(prediction) + (1-y_pred)*torch.log(1-prediction))\n"
      ],
      "metadata": {
        "id": "UdkWSOJ7Oq7q"
      },
      "execution_count": null,
      "outputs": []
    },
    {
      "cell_type": "code",
      "source": [
        "#forward Pass\n",
        "z = w*x+b\n",
        "\n",
        "y_pred=torch.sigmoid(z)\n",
        "\n",
        "loss = binary_cross_loss_entropy(y,y_pred)"
      ],
      "metadata": {
        "id": "bcUwGxzLQX2-"
      },
      "execution_count": null,
      "outputs": []
    },
    {
      "cell_type": "code",
      "source": [
        "loss"
      ],
      "metadata": {
        "colab": {
          "base_uri": "https://localhost:8080/"
        },
        "id": "MFxtbAa0RSIJ",
        "outputId": "8554e61f-3b1b-4eab-a4ca-b90a01b868f6"
      },
      "execution_count": null,
      "outputs": [
        {
          "output_type": "execute_result",
          "data": {
            "text/plain": [
              "tensor(0.2514)"
            ]
          },
          "metadata": {},
          "execution_count": 6
        }
      ]
    },
    {
      "cell_type": "code",
      "source": [
        "#derivative Calculation\n",
        "#1.dL/dy_pred\n",
        "d_loss_d_pred = (y_pred-y)/(y_pred*(1-y_pred))\n",
        "#2.dy_pred/dz\n",
        "d_y_pred_d_z = (y_pred*(1-y_pred))\n",
        "#3.dz/dw and dz/db\n",
        "dz_dw= x\n",
        "dz_db=1\n",
        "\n",
        "dL_dw=d_loss_d_pred*d_y_pred_d_z*dz_dw\n",
        "\n",
        "dL_db=d_loss_d_pred*d_y_pred_d_z*dz_db"
      ],
      "metadata": {
        "id": "cU0xi2Y3Sve0"
      },
      "execution_count": null,
      "outputs": []
    },
    {
      "cell_type": "code",
      "source": [
        "dL_db"
      ],
      "metadata": {
        "colab": {
          "base_uri": "https://localhost:8080/"
        },
        "id": "MeJwZT2lUEiE",
        "outputId": "c87cde1e-97b9-4107-ce2b-fbbf31f52eaf"
      },
      "execution_count": null,
      "outputs": [
        {
          "output_type": "execute_result",
          "data": {
            "text/plain": [
              "tensor(-0.0691)"
            ]
          },
          "metadata": {},
          "execution_count": 8
        }
      ]
    },
    {
      "cell_type": "code",
      "source": [
        "dz_dw"
      ],
      "metadata": {
        "colab": {
          "base_uri": "https://localhost:8080/"
        },
        "id": "nWgEAMbvUF4x",
        "outputId": "dd5b0a7f-6b8e-41f3-fad3-54010170f851"
      },
      "execution_count": null,
      "outputs": [
        {
          "output_type": "execute_result",
          "data": {
            "text/plain": [
              "tensor(2.6000)"
            ]
          },
          "metadata": {},
          "execution_count": 9
        }
      ]
    },
    {
      "cell_type": "markdown",
      "source": [
        "# **->Mentos Jindagi**"
      ],
      "metadata": {
        "id": "R3nJqC5kUt8T"
      }
    },
    {
      "cell_type": "code",
      "source": [
        "w=torch.tensor(1.0,requires_grad=True)\n",
        "b=torch.tensor(0.5,requires_grad=True)"
      ],
      "metadata": {
        "id": "eE9T32LIUyfM"
      },
      "execution_count": null,
      "outputs": []
    },
    {
      "cell_type": "code",
      "source": [
        "z= w*x+b"
      ],
      "metadata": {
        "id": "_UM6Q0vAVBOX"
      },
      "execution_count": null,
      "outputs": []
    },
    {
      "cell_type": "code",
      "source": [
        "z"
      ],
      "metadata": {
        "colab": {
          "base_uri": "https://localhost:8080/"
        },
        "id": "z-U9MxMmVK-m",
        "outputId": "59a9f9eb-578b-46cb-e0f4-ceae0f5dc400"
      },
      "execution_count": null,
      "outputs": [
        {
          "output_type": "execute_result",
          "data": {
            "text/plain": [
              "tensor(3.1000, grad_fn=<AddBackward0>)"
            ]
          },
          "metadata": {},
          "execution_count": 50
        }
      ]
    },
    {
      "cell_type": "code",
      "source": [
        "y_pred = torch.sigmoid(z)"
      ],
      "metadata": {
        "id": "n9MESeaIVLl-"
      },
      "execution_count": null,
      "outputs": []
    },
    {
      "cell_type": "code",
      "source": [
        "y_pred"
      ],
      "metadata": {
        "colab": {
          "base_uri": "https://localhost:8080/"
        },
        "id": "Jn5AERBMVPGQ",
        "outputId": "427a491c-db41-4067-a8f5-8e0cbe6dfbc6"
      },
      "execution_count": null,
      "outputs": [
        {
          "output_type": "execute_result",
          "data": {
            "text/plain": [
              "tensor(0.9569, grad_fn=<SigmoidBackward0>)"
            ]
          },
          "metadata": {},
          "execution_count": 52
        }
      ]
    },
    {
      "cell_type": "code",
      "source": [
        "loss = binary_cross_loss_entropy(y,y_pred)"
      ],
      "metadata": {
        "id": "8DB4jCUpVQM0"
      },
      "execution_count": null,
      "outputs": []
    },
    {
      "cell_type": "code",
      "source": [
        "loss"
      ],
      "metadata": {
        "colab": {
          "base_uri": "https://localhost:8080/"
        },
        "id": "ynbZ0RMpVeNW",
        "outputId": "8c00dd58-5b06-41f9-e8cc-a1a1a126ccb1"
      },
      "execution_count": null,
      "outputs": [
        {
          "output_type": "execute_result",
          "data": {
            "text/plain": [
              "tensor(0.1777, grad_fn=<NegBackward0>)"
            ]
          },
          "metadata": {},
          "execution_count": 54
        }
      ]
    },
    {
      "cell_type": "code",
      "source": [
        "loss.backward()"
      ],
      "metadata": {
        "id": "1t_vCXv9VtQJ"
      },
      "execution_count": null,
      "outputs": []
    },
    {
      "cell_type": "code",
      "source": [
        "w.grad"
      ],
      "metadata": {
        "colab": {
          "base_uri": "https://localhost:8080/"
        },
        "id": "u7K-sgTJVvTQ",
        "outputId": "aaf23d5d-f14c-40ee-dcda-39817ff90ec2"
      },
      "execution_count": null,
      "outputs": [
        {
          "output_type": "execute_result",
          "data": {
            "text/plain": [
              "tensor(-0.6649)"
            ]
          },
          "metadata": {},
          "execution_count": 56
        }
      ]
    },
    {
      "cell_type": "code",
      "source": [
        "print(b.grad)"
      ],
      "metadata": {
        "colab": {
          "base_uri": "https://localhost:8080/"
        },
        "id": "gUQlqx3yV3Xx",
        "outputId": "e402c75c-4f60-4cc5-991a-d8b13960cc7f"
      },
      "execution_count": null,
      "outputs": [
        {
          "output_type": "stream",
          "name": "stdout",
          "text": [
            "tensor(-0.2557)\n"
          ]
        }
      ]
    },
    {
      "cell_type": "code",
      "source": [
        "w.grad.zero_()\n",
        "b.grad.zero_()"
      ],
      "metadata": {
        "colab": {
          "base_uri": "https://localhost:8080/"
        },
        "id": "ozQjznW8WDIc",
        "outputId": "c242327e-2ab4-45ee-a695-2d1268593528"
      },
      "execution_count": null,
      "outputs": [
        {
          "output_type": "execute_result",
          "data": {
            "text/plain": [
              "tensor(0.)"
            ]
          },
          "metadata": {},
          "execution_count": 60
        }
      ]
    },
    {
      "cell_type": "markdown",
      "source": [
        "# **Stop Gradient Tracking**"
      ],
      "metadata": {
        "id": "qgTqblCJY2Ia"
      }
    },
    {
      "cell_type": "code",
      "source": [
        "#disable Gradient Tracking\n",
        "\n",
        "#->usefull in scenarious like duration testing\n",
        "\n",
        "#3 methods are there\n",
        "\n",
        "#->1.require_grad(False)\n",
        "w.requires_grad_(False)\n",
        "print(w)\n",
        "\n",
        "#->2.detach()->create a new tensor with same values as old and does not contain gradient tracking on\n",
        "z=w.detach()\n",
        "print(z)\n",
        "\n",
        "#->3.using no_grad()\n",
        "with torch.no_grad():\n",
        "  y=x**2\n",
        "  print(y)"
      ],
      "metadata": {
        "colab": {
          "base_uri": "https://localhost:8080/"
        },
        "id": "VLXaboMfYeYA",
        "outputId": "bf4a7627-984e-4f03-d779-44c27752eff1"
      },
      "execution_count": null,
      "outputs": [
        {
          "output_type": "stream",
          "name": "stdout",
          "text": [
            "tensor(1.)\n",
            "tensor(1.)\n",
            "tensor(6.7600)\n"
          ]
        }
      ]
    }
  ]
}
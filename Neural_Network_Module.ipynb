{
  "nbformat": 4,
  "nbformat_minor": 0,
  "metadata": {
    "colab": {
      "provenance": [],
      "authorship_tag": "ABX9TyPQqJFlwfAoHdUmvKjFs0d2",
      "include_colab_link": true
    },
    "kernelspec": {
      "name": "python3",
      "display_name": "Python 3"
    },
    "language_info": {
      "name": "python"
    }
  },
  "cells": [
    {
      "cell_type": "markdown",
      "metadata": {
        "id": "view-in-github",
        "colab_type": "text"
      },
      "source": [
        "<a href=\"https://colab.research.google.com/github/Niteshsinghbisht03/Pytorch/blob/main/Neural_Network_Module.ipynb\" target=\"_parent\"><img src=\"https://colab.research.google.com/assets/colab-badge.svg\" alt=\"Open In Colab\"/></a>"
      ]
    },
    {
      "cell_type": "code",
      "execution_count": 1,
      "metadata": {
        "id": "ygoH_PR88a7G"
      },
      "outputs": [],
      "source": [
        "import torch\n",
        "import torch.nn as nn"
      ]
    },
    {
      "cell_type": "markdown",
      "source": [
        "# **Creating a Network with a Single Perceptron**"
      ],
      "metadata": {
        "id": "T0kjCibTU697"
      }
    },
    {
      "cell_type": "code",
      "source": [
        "class Model(nn.Module):\n",
        "  def __init__(self,num_features):\n",
        "    super().__init__() #invoke parent class constructor\n",
        "    self.linear = nn.Linear(num_features,1)  #only one layer in Network -> Parameters = (total number of columns in data,output number)\n",
        "\n",
        "\n",
        "  def forward(self,features):\n",
        "    out = self.linear(features) #calculating wx+b\n",
        "    out = torch.sigmoid(out) #claculating sigmoid(z)\n",
        "\n",
        "    return out"
      ],
      "metadata": {
        "id": "6klGfs8r94UE"
      },
      "execution_count": 2,
      "outputs": []
    },
    {
      "cell_type": "code",
      "source": [
        "features = torch.rand(10,5) #creating a random dataset"
      ],
      "metadata": {
        "id": "lBDip4GSMTZx"
      },
      "execution_count": 3,
      "outputs": []
    },
    {
      "cell_type": "code",
      "source": [
        "features"
      ],
      "metadata": {
        "colab": {
          "base_uri": "https://localhost:8080/"
        },
        "id": "yvzTa_1NMsqt",
        "outputId": "b0d0aaca-fb7d-48f4-bcc9-eb47a0832a6e"
      },
      "execution_count": 4,
      "outputs": [
        {
          "output_type": "execute_result",
          "data": {
            "text/plain": [
              "tensor([[0.4463, 0.0917, 0.2978, 0.7380, 0.4758],\n",
              "        [0.2761, 0.2800, 0.0012, 0.4324, 0.8009],\n",
              "        [0.9296, 0.2621, 0.6277, 0.3718, 0.0483],\n",
              "        [0.6864, 0.8672, 0.3932, 0.1563, 0.2778],\n",
              "        [0.5567, 0.8969, 0.7076, 0.2441, 0.6008],\n",
              "        [0.6143, 0.3927, 0.0601, 0.0943, 0.8326],\n",
              "        [0.0030, 0.2091, 0.5885, 0.7408, 0.0624],\n",
              "        [0.9821, 0.4084, 0.9536, 0.8085, 0.9338],\n",
              "        [0.1950, 0.5906, 0.9959, 0.1344, 0.5749],\n",
              "        [0.4189, 0.1499, 0.2038, 0.5581, 0.8931]])"
            ]
          },
          "metadata": {},
          "execution_count": 4
        }
      ]
    },
    {
      "cell_type": "code",
      "source": [
        "#create a object of Model\n",
        "model = Model(features.shape[1])"
      ],
      "metadata": {
        "id": "0poGh-bnMuuA"
      },
      "execution_count": 5,
      "outputs": []
    },
    {
      "cell_type": "code",
      "source": [
        "#call model for Forward Pass\n",
        "model(features)"
      ],
      "metadata": {
        "colab": {
          "base_uri": "https://localhost:8080/"
        },
        "id": "gYCNymJuFvav",
        "outputId": "00c3ed0e-d078-40a9-8215-393bcb25dac3"
      },
      "execution_count": 6,
      "outputs": [
        {
          "output_type": "execute_result",
          "data": {
            "text/plain": [
              "tensor([[0.5788],\n",
              "        [0.5117],\n",
              "        [0.6884],\n",
              "        [0.6748],\n",
              "        [0.6677],\n",
              "        [0.5430],\n",
              "        [0.6150],\n",
              "        [0.6706],\n",
              "        [0.6331],\n",
              "        [0.5266]], grad_fn=<SigmoidBackward0>)"
            ]
          },
          "metadata": {},
          "execution_count": 6
        }
      ]
    },
    {
      "cell_type": "code",
      "source": [
        "#weights of model\n",
        "print(model.linear.weight)\n",
        "\n",
        "#bias of model\n",
        "print(model.linear.bias)"
      ],
      "metadata": {
        "colab": {
          "base_uri": "https://localhost:8080/"
        },
        "id": "lfF0vguaEFIX",
        "outputId": "9490508e-1d31-43a4-9c07-ba79cf3b1e40"
      },
      "execution_count": 11,
      "outputs": [
        {
          "output_type": "stream",
          "name": "stdout",
          "text": [
            "Parameter containing:\n",
            "tensor([[ 0.3665,  0.3879,  0.3677,  0.1517, -0.3880]], requires_grad=True)\n",
            "Parameter containing:\n",
            "tensor([0.0817], requires_grad=True)\n"
          ]
        }
      ]
    },
    {
      "cell_type": "code",
      "source": [
        "!pip install torchinfo"
      ],
      "metadata": {
        "colab": {
          "base_uri": "https://localhost:8080/"
        },
        "id": "h8LvEW3bEWzk",
        "outputId": "047e4cf3-5191-4043-ab4e-3c81bec2c252"
      },
      "execution_count": 8,
      "outputs": [
        {
          "output_type": "stream",
          "name": "stdout",
          "text": [
            "Collecting torchinfo\n",
            "  Downloading torchinfo-1.8.0-py3-none-any.whl.metadata (21 kB)\n",
            "Downloading torchinfo-1.8.0-py3-none-any.whl (23 kB)\n",
            "Installing collected packages: torchinfo\n",
            "Successfully installed torchinfo-1.8.0\n"
          ]
        }
      ]
    },
    {
      "cell_type": "code",
      "source": [
        "from torchinfo import summary"
      ],
      "metadata": {
        "id": "toDy3aaZEcTx"
      },
      "execution_count": 9,
      "outputs": []
    },
    {
      "cell_type": "code",
      "source": [
        "summary(model,input_size=(10,5))"
      ],
      "metadata": {
        "colab": {
          "base_uri": "https://localhost:8080/"
        },
        "id": "5A2mkItoEjls",
        "outputId": "faecbbde-11b8-43d7-fd70-95b247619730"
      },
      "execution_count": 10,
      "outputs": [
        {
          "output_type": "execute_result",
          "data": {
            "text/plain": [
              "==========================================================================================\n",
              "Layer (type:depth-idx)                   Output Shape              Param #\n",
              "==========================================================================================\n",
              "Model                                    [10, 1]                   --\n",
              "├─Linear: 1-1                            [10, 1]                   6\n",
              "==========================================================================================\n",
              "Total params: 6\n",
              "Trainable params: 6\n",
              "Non-trainable params: 0\n",
              "Total mult-adds (Units.MEGABYTES): 0.00\n",
              "==========================================================================================\n",
              "Input size (MB): 0.00\n",
              "Forward/backward pass size (MB): 0.00\n",
              "Params size (MB): 0.00\n",
              "Estimated Total Size (MB): 0.00\n",
              "=========================================================================================="
            ]
          },
          "metadata": {},
          "execution_count": 10
        }
      ]
    },
    {
      "cell_type": "markdown",
      "source": [
        "# **Creating a Network With a Hidden Layer**"
      ],
      "metadata": {
        "id": "-iEFcQxKVR_c"
      }
    },
    {
      "cell_type": "code",
      "source": [
        "class Model2(nn.Module):\n",
        "  def __init__(self,num_features):\n",
        "    super().__init__() #invoke parent class constructor\n",
        "    self.linear1 = nn.Linear(num_features,3)  #only one layer in Network -> Parameters = (total number of columns in data,output number)\n",
        "    self.relu = nn.ReLU()\n",
        "    self.linear2 = nn.Linear(3,1)\n",
        "    self.sigmoid = nn.Sigmoid()\n",
        "\n",
        "  def forward(self,features):\n",
        "    out = self.linear1(features) #calculating wx+b\n",
        "    out = self.relu(out) #claculating sigmoid(z)\n",
        "    out = self.linear2(out)\n",
        "    out = self.sigmoid(out)\n",
        "    return out"
      ],
      "metadata": {
        "id": "t0bOwF-eFZVt"
      },
      "execution_count": 14,
      "outputs": []
    },
    {
      "cell_type": "code",
      "source": [
        "model2 = Model2(features.shape[1])"
      ],
      "metadata": {
        "id": "e9kkqivoWwll"
      },
      "execution_count": 16,
      "outputs": []
    },
    {
      "cell_type": "code",
      "source": [
        "model2(features)"
      ],
      "metadata": {
        "colab": {
          "base_uri": "https://localhost:8080/"
        },
        "id": "bIOaHZRnXCTc",
        "outputId": "9b537f14-bc1e-467b-a687-d84060377cd6"
      },
      "execution_count": 19,
      "outputs": [
        {
          "output_type": "execute_result",
          "data": {
            "text/plain": [
              "tensor([[0.3929],\n",
              "        [0.3857],\n",
              "        [0.4062],\n",
              "        [0.3931],\n",
              "        [0.3810],\n",
              "        [0.3842],\n",
              "        [0.3909],\n",
              "        [0.4229],\n",
              "        [0.3511],\n",
              "        [0.3914]], grad_fn=<SigmoidBackward0>)"
            ]
          },
          "metadata": {},
          "execution_count": 19
        }
      ]
    },
    {
      "cell_type": "code",
      "source": [
        "summary(model2,input_size=(10,5))"
      ],
      "metadata": {
        "colab": {
          "base_uri": "https://localhost:8080/"
        },
        "id": "B7Oyg_tbYUzP",
        "outputId": "1a6c49fc-c824-453b-bf7f-541a231af055"
      },
      "execution_count": 24,
      "outputs": [
        {
          "output_type": "execute_result",
          "data": {
            "text/plain": [
              "==========================================================================================\n",
              "Layer (type:depth-idx)                   Output Shape              Param #\n",
              "==========================================================================================\n",
              "Model2                                   [10, 1]                   --\n",
              "├─Linear: 1-1                            [10, 3]                   18\n",
              "├─ReLU: 1-2                              [10, 3]                   --\n",
              "├─Linear: 1-3                            [10, 1]                   4\n",
              "├─Sigmoid: 1-4                           [10, 1]                   --\n",
              "==========================================================================================\n",
              "Total params: 22\n",
              "Trainable params: 22\n",
              "Non-trainable params: 0\n",
              "Total mult-adds (Units.MEGABYTES): 0.00\n",
              "==========================================================================================\n",
              "Input size (MB): 0.00\n",
              "Forward/backward pass size (MB): 0.00\n",
              "Params size (MB): 0.00\n",
              "Estimated Total Size (MB): 0.00\n",
              "=========================================================================================="
            ]
          },
          "metadata": {},
          "execution_count": 24
        }
      ]
    },
    {
      "cell_type": "code",
      "source": [
        "#weights of model\n",
        "print(model2.linear1.weight)\n",
        "\n",
        "#bias of model\n",
        "print(model2.linear1.bias)"
      ],
      "metadata": {
        "colab": {
          "base_uri": "https://localhost:8080/"
        },
        "id": "c6r1FM4WXodz",
        "outputId": "f491037f-f921-4218-8b40-8b729f8c51bd"
      },
      "execution_count": 21,
      "outputs": [
        {
          "output_type": "stream",
          "name": "stdout",
          "text": [
            "Parameter containing:\n",
            "tensor([[ 0.1496,  0.0893,  0.1945,  0.1465,  0.0433],\n",
            "        [ 0.3395,  0.3027, -0.2861, -0.2660,  0.1223],\n",
            "        [-0.1083,  0.1531,  0.2142, -0.4107,  0.1632]], requires_grad=True)\n",
            "Parameter containing:\n",
            "tensor([-0.1630, -0.0651,  0.0453], requires_grad=True)\n"
          ]
        }
      ]
    },
    {
      "cell_type": "code",
      "source": [
        "#weights of model\n",
        "print(model2.linear2.weight)\n",
        "\n",
        "#bias of model\n",
        "print(model2.linear2.bias)"
      ],
      "metadata": {
        "colab": {
          "base_uri": "https://localhost:8080/"
        },
        "id": "IxNz1ChPX5Sn",
        "outputId": "41548bd7-4e21-4c4b-c000-5e080a0c262a"
      },
      "execution_count": 22,
      "outputs": [
        {
          "output_type": "stream",
          "name": "stdout",
          "text": [
            "Parameter containing:\n",
            "tensor([[ 0.5042,  0.2644, -0.5690]], requires_grad=True)\n",
            "Parameter containing:\n",
            "tensor([-0.4848], requires_grad=True)\n"
          ]
        }
      ]
    },
    {
      "cell_type": "markdown",
      "source": [
        "# **Creating a Model using Sequential Container**"
      ],
      "metadata": {
        "id": "h7fAVB-vtDwP"
      }
    },
    {
      "cell_type": "code",
      "source": [
        "class Model3(nn.Module):\n",
        "  def __init__(self,num_features):\n",
        "    super().__init__() #invoke parent class constructor\n",
        "    self.network = nn.Sequential(\n",
        "    nn.Linear(num_features,3),  #only one layer in Network -> Parameters = (total number of columns in data,output number)\n",
        "    nn.ReLU(),\n",
        "    nn.Linear(3,1),\n",
        "    nn.Sigmoid()\n",
        "    )\n",
        "\n",
        "  def forward(self,features):\n",
        "    out  = self.network(features)\n",
        "\n",
        "    return out"
      ],
      "metadata": {
        "id": "nEySNqx5YMB0"
      },
      "execution_count": 25,
      "outputs": []
    },
    {
      "cell_type": "code",
      "source": [
        "model3 = Model3(features.shape[1])"
      ],
      "metadata": {
        "id": "B780gNv9cnU-"
      },
      "execution_count": 28,
      "outputs": []
    },
    {
      "cell_type": "code",
      "source": [
        "model3(features)"
      ],
      "metadata": {
        "colab": {
          "base_uri": "https://localhost:8080/"
        },
        "id": "iYlIuf79cpdP",
        "outputId": "b0ed4c95-89e2-405c-8382-f05b2a8be22f"
      },
      "execution_count": 29,
      "outputs": [
        {
          "output_type": "execute_result",
          "data": {
            "text/plain": [
              "tensor([[0.5872],\n",
              "        [0.5854],\n",
              "        [0.5781],\n",
              "        [0.5880],\n",
              "        [0.6009],\n",
              "        [0.5938],\n",
              "        [0.5735],\n",
              "        [0.5767],\n",
              "        [0.6080],\n",
              "        [0.5935]], grad_fn=<SigmoidBackward0>)"
            ]
          },
          "metadata": {},
          "execution_count": 29
        }
      ]
    },
    {
      "cell_type": "code",
      "source": [
        "model3.network[0].weight"
      ],
      "metadata": {
        "colab": {
          "base_uri": "https://localhost:8080/"
        },
        "id": "UJTwBA_Hc0YX",
        "outputId": "534ad71f-d04f-4b40-f08c-97450cc4d104"
      },
      "execution_count": 32,
      "outputs": [
        {
          "output_type": "execute_result",
          "data": {
            "text/plain": [
              "Parameter containing:\n",
              "tensor([[ 0.2814,  0.3077,  0.3497,  0.2930, -0.3115],\n",
              "        [-0.1365,  0.1534, -0.2799,  0.1445, -0.2124],\n",
              "        [ 0.0463,  0.3568,  0.2794, -0.4295, -0.0832]], requires_grad=True)"
            ]
          },
          "metadata": {},
          "execution_count": 32
        }
      ]
    },
    {
      "cell_type": "code",
      "source": [
        "model3.network[2].weight"
      ],
      "metadata": {
        "colab": {
          "base_uri": "https://localhost:8080/"
        },
        "id": "TYI_AtBidO5A",
        "outputId": "68d61779-710a-49e6-a0c0-bb413741b6da"
      },
      "execution_count": 34,
      "outputs": [
        {
          "output_type": "execute_result",
          "data": {
            "text/plain": [
              "Parameter containing:\n",
              "tensor([[-0.2329, -0.3458,  0.5715]], requires_grad=True)"
            ]
          },
          "metadata": {},
          "execution_count": 34
        }
      ]
    }
  ]
}